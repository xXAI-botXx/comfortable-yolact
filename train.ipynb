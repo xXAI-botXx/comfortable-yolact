{
 "cells": [
  {
   "cell_type": "markdown",
   "metadata": {},
   "source": [
    "# Train\n",
    "### YOLACT\n",
    "\n"
   ]
  },
  {
   "cell_type": "markdown",
   "metadata": {},
   "source": [
    "---\n",
    "### Imports"
   ]
  },
  {
   "cell_type": "code",
   "execution_count": null,
   "metadata": {},
   "outputs": [],
   "source": [
    "# add nn-lib\n",
    "import sys\n",
    "sys.path.append(\"./\")"
   ]
  },
  {
   "cell_type": "code",
   "execution_count": null,
   "metadata": {},
   "outputs": [],
   "source": [
    "# yolact toolkit\n",
    "from yolact_toolkit import train\n",
    "from yolact_toolkit import DATA_FORMAT\n",
    "\n",
    "# general\n",
    "from datetime import datetime, timedelta\n",
    "import os\n",
    "from numba import cuda "
   ]
  },
  {
   "cell_type": "markdown",
   "metadata": {},
   "source": [
    "---\n",
    "Restarting your GPU:"
   ]
  },
  {
   "cell_type": "code",
   "execution_count": 1,
   "metadata": {},
   "outputs": [],
   "source": [
    "if cuda.is_available():\n",
    "    device = cuda.get_current_device()\n",
    "    device.reset()"
   ]
  },
  {
   "cell_type": "markdown",
   "metadata": {},
   "source": [
    "**Download Pretrained Backbone Weights**\n",
    "\n",
    "You can download the weights from [here](https://drive.google.com/file/d/1tvqFPd4bJtakOlmn-uIA492g2qurRChj/view), also see [their github repo](https://github.com/dbolya/yolact#training)."
   ]
  },
  {
   "cell_type": "code",
   "execution_count": 2,
   "metadata": {},
   "outputs": [
    {
     "name": "stdout",
     "output_type": "stream",
     "text": [
      "weights folder already exists\n",
      "Found these weights:\n",
      "    - 2024-09-06_17-34_YOLACT_test_training_4_0_8_interrupt.pth\n",
      "    - 2024-06-04_23-15_YOLACT_test_training_with_WISDOM-Sim_0_759_interrupt.pth\n",
      "    - 2024-09-05_12-57_YOLACT_test_training_3_with_WISDOM-Sim_0_52_interrupt.pth\n",
      "    - 2024-06-05_7-9_YOLACT_test_training_with_WISDOM-Sim.pth\n",
      "    - 2024-09-05_13-07_YOLACT_test_training_3_with_WISDOM-Sim_5_12849_interrupt.pth\n",
      "    - 2024-06-06_23-15_YOLACT_test_training_2_with_WISDOM-Sim_0_10_interrupt.pth\n",
      "    - 2024-09-16_13-49_YOLACT_rgb_test_training_3_with_WISDOM-Real_649_2000_interrupt.pth\n",
      "    - 2024-09-17_14-23_YOLACT_test_training_8_0_0_interrupt.pth\n",
      "    - 2024-09-09_09-55_YOLACT_test_training_5_with_WISDOM-Sim_399_50000.pth\n",
      "    - 2024-09-16_12-03_YOLACT_rgb_test_training_2_with_WISDOM-Real_399_400.pth\n",
      "    - resnet101_reducedfc.pth\n",
      "    - 2024-06-06_22-57_YOLACT_test_training_2_with_WISDOM-Sim_0_28_interrupt.pth\n",
      "    - 2024-06-04_20-59_YOLACT_test_training_with_WISDOM-Sim_3_8483_interrupt.pth\n",
      "    - 2024-06-06_23-12_YOLACT_test_training_2_with_WISDOM-Sim_0_31_interrupt.pth\n",
      "    - 2024-06-05_0-47_YOLACT_test_training_with_WISDOM-Sim.pth\n",
      "    - 2024-09-16_17-09_YOLACT_sim_test_training_7_with_WISDOM Sim_399_50000.pth\n",
      "    - 2024-06-05_15-34_YOLACT_test_training_with_WISDOM-Sim_0_25_interrupt.pth\n",
      "    - 2024-09-17_13-48_YOLACT_test_training_8_0_22_interrupt.pth\n",
      "    - 2024-06-05_15-33_YOLACT_test_training_with_WISDOM-Sim_0_15_interrupt.pth\n",
      "    - 2024-06-06_23-56_YOLACT_test_training_2_with_WISDOM-Sim_399_50000.pth\n",
      "    - 2024-09-18_11-28_YOLACT_sim_test_training_9_with_WISDOM Sim_0_18_interrupt.pth\n",
      "    - 2024-09-17_14-11_YOLACT_test_training_8_0_26_interrupt.pth\n",
      "    - 2024-06-06_22-55_YOLACT_test_training_2_with_WISDOM-Sim_0_21_interrupt.pth\n",
      "    - 2024-09-16_17-03_YOLACT_sim_test_training_7_with_WISDOM Sim_0_7_interrupt.pth\n",
      "    - 2024-06-05_15-39_YOLACT_test_training_with_WISDOM-Sim_0_500.pth\n",
      "    - 2024-06-04_20-42_YOLACT_test_training_with_WISDOM-Sim_0_1049_interrupt.pth\n",
      "    - 2024-06-04_23-46_YOLACT_test_training_with_WISDOM-Sim_1_3801_interrupt.pth\n",
      "    - 2024-09-18_10-58_YOLACT_sim_test_training_9_with_WISDOM Sim_0_462_interrupt.pth\n",
      "    - 2024-09-06_16-58_YOLACT_test_training_4_0_163_interrupt.pth\n",
      "    - 2024-06-06_23-56_YOLACT_test_training_2_with_WISDOM-Sim_0_500.pth\n",
      "    - test_yolact_config_0_170_interrupt.pth\n",
      "    - 2024-09-10_10-22_YOLACT_test_training_6_with_WISDOM-Sim_399_50000.pth\n",
      "    - 2024-09-05_10-23_YOLACT_test_training_3_with_WISDOM-Sim_0_762_interrupt.pth\n",
      "    - 2024-06-06_22-54_YOLACT_test_training_2_with_WISDOM-Sim_0_17_interrupt.pth\n",
      "    - 2024-09-05_10-06_YOLACT_test_training_3_with_WISDOM-Sim_0_500.pth\n",
      "    - 2024-09-17_16-05_YOLACT_sim_test_training_8_with_WISDOM Sim_199_25000.pth\n",
      "    - 2024-06-06_23-53_YOLACT_test_training_2_with_WISDOM-Sim_0_141_interrupt.pth\n",
      "    - 2024-06-06_23-24_YOLACT_test_training_2_with_WISDOM-Sim_0_11_interrupt.pth\n",
      "    - 2024-09-05_18-02_YOLACT_test_training_3_with_WISDOM-Sim_399_50000.pth\n",
      "    - 2024-09-17_11-50_YOLACT_sim_test_training_7_with_WISDOM Sim_3_7621_interrupt.pth\n",
      "    - 2024-06-05_15-39_YOLACT_test_training_with_WISDOM-Sim_399_50000.pth\n",
      "    - 2024-06-06_23-24_YOLACT_test_training_2_with_WISDOM-Sim_0_16_interrupt.pth\n",
      "    - 2024-09-17_14-37_YOLACT_test_training_8_0_10_interrupt.pth\n",
      "    - 2024-06-03_18-32_YOLACT_test_training_with_WISDOM-Sim_0_50.pth\n",
      "    - 2024-09-11_11-04_YOLACT_rgb_test_training_1_with_WISDOM-Real_399_400.pth\n",
      "    - test_yolact_config_0_236.pth\n",
      "    - 2024-09-06_17-35_YOLACT_test_training_4_with_WISDOM-Sim_399_50000.pth\n"
     ]
    }
   ],
   "source": [
    "if not (os.path.exists(\"./weights\") and os.path.isdir(\"./weights\")):\n",
    "    print(\"create weights folder...\")\n",
    "    os.mkdir(\"./weights\")\n",
    "else:\n",
    "    print(\"weights folder already exists\")\n",
    "    print(\"Found these weights:\")\n",
    "    [print(f\"    - {name}\") for name in os.listdir(\"./weights\")];"
   ]
  },
  {
   "cell_type": "markdown",
   "metadata": {},
   "source": [
    "---\n",
    "### VARIABLES"
   ]
  },
  {
   "cell_type": "code",
   "execution_count": 3,
   "metadata": {},
   "outputs": [
    {
     "name": "stdout",
     "output_type": "stream",
     "text": [
      "/home/local-admin/src/instance-segmentation\n"
     ]
    }
   ],
   "source": [
    "!pwd"
   ]
  },
  {
   "cell_type": "code",
   "execution_count": 4,
   "metadata": {},
   "outputs": [
    {
     "name": "stdout",
     "output_type": "stream",
     "text": [
      "Date: 2024-09-18_11-44\n"
     ]
    }
   ],
   "source": [
    "NOW = datetime.now()\n",
    "DATE = f\"{NOW.year:04}-{NOW.month:02}-{NOW.day:02}_{NOW.hour:02}-{NOW.minute:02}\"\n",
    "\n",
    "print(f\"Date: {DATE}\")"
   ]
  },
  {
   "cell_type": "code",
   "execution_count": 5,
   "metadata": {},
   "outputs": [],
   "source": [
    "NAME = f\"{DATE}_YOLACT_test_training_9\" \n",
    "MODEL_SAVE_PATH = \"./weights/\"\n",
    "\n",
    "# Data\n",
    "USED_DATA_FORMAT = DATA_FORMAT.DUAL_DIR\n",
    "PATH_TO_IMAGES = \"/home/local-admin/data/wisdom/wisdom-sim/depth_ims\"\n",
    "PATH_TO_MASKS = \"/home/local-admin/data/wisdom/wisdom-sim/modal_segmasks/\"\n",
    "DATA_MODE = \"all\" # auto, random, range, single -> then use START_IDX and END_IDX\n",
    "DATA_AMOUNT = 5\n",
    "START_IDX = 0\n",
    "END_IDX = 5\n",
    "TRAIN_DATA_SHUFFLE=True\n",
    "IMG_MAX_SIZE = 550\n",
    "\n",
    "# Output\n",
    "SHOULD_PRINT = True\n",
    "LOG_FOLDER=\"./logs/\"\n",
    "\n",
    "# Experiment tracking\n",
    "USING_EXPERIMENT_TRACKING = True\n",
    "CREATE_NEW_EXPERIMENT = False\n",
    "EXPERIMENT_NAME = \"Instance Segmentation Optonic\"\n",
    "EXPERIMENT_ID = 778265130982647590\n",
    "\n",
    "# Learning Parameters\n",
    "EPOCHS = 20\n",
    "BATCH_SIZE = 20\n",
    "LEARNING_RATE = 1e-3\n",
    "WEIGHT_SAVE_INTERVAL = 1e5\n",
    "KEEP_ONLY_LATEST_WEIGHTS = True\n",
    "LEARNING_RATE_ADJUSTMENT = (280000, 600000, 700000, 750000)\n",
    "MOMENTUM = 0.9\n",
    "DECAY = 5e-4\n",
    "GAMMA = 0.1\n",
    "WARM_UP_ITER = 500\n",
    "WARM_UP_INIT_LR = 1e-4\n",
    "FREEZE_BATCH_NORMALIZATION = False\n",
    "\n",
    "# Model Details\n",
    "WEIGHTS_NAME = None\n",
    "BACKBONE_INIT_WEIGHTS=\"resnet101_reducedfc.pth\"\n",
    "BACKBONE =\"resnet101\"\n",
    "MAX_INSTANCES=100\n",
    "FPN_FEATURES=256\n",
    "NMS_TOP_K = 200\n",
    "NMS_CONF_THRESH = 0.005\n",
    "NMS_THRESH = 0.5"
   ]
  },
  {
   "cell_type": "markdown",
   "metadata": {},
   "source": [
    "---\n",
    "### Train"
   ]
  },
  {
   "cell_type": "code",
   "execution_count": 8,
   "metadata": {},
   "outputs": [],
   "source": [
    "os.environ['CUDA_LAUNCH_BLOCKING'] = '1'"
   ]
  },
  {
   "cell_type": "code",
   "execution_count": 9,
   "metadata": {},
   "outputs": [
    {
     "name": "stdout",
     "output_type": "stream",
     "text": [
      "\n",
      "\n",
      "--------------------------------\n",
      "Yolact Training - 13:03 18.09.2024\n",
      "\n",
      "| epoch:     1 || iteration:     3760 || duration:    1.190 || ETA: 15:57:13 || total loss:    7.873 ||  B:    1.207 | C:    0.012 | M:    6.386 | S:    0.031 | I:    0.237 |\n",
      "\n",
      "Total Progress: |          |    Epoch Progress: |#####     |\n",
      "\n",
      "Successrate: 100.0%\n",
      "    -> Success: 3760\n",
      "    -> Errors: 0\n",
      "\n"
     ]
    }
   ],
   "source": [
    "train(\n",
    "    MODEL_SAVE_PATH=MODEL_SAVE_PATH, \n",
    "    WEIGHTS_NAME=WEIGHTS_NAME,\n",
    "    PATH_TO_TRAIN_IMAGES=PATH_TO_IMAGES,\n",
    "    PATH_TO_TRAIN_MASKS=PATH_TO_MASKS,\n",
    "    TRAIN_DATA_MODE=DATA_MODE,\n",
    "    TRAIN_DATA_AMOUNT=DATA_AMOUNT,\n",
    "    TRAIN_START_IDX=START_IDX,\n",
    "    TRAIN_END_IDX=END_IDX,\n",
    "    IMG_MAX_SIZE=IMG_MAX_SIZE,\n",
    "    SHOULD_PRINT=SHOULD_PRINT,\n",
    "    USING_EXPERIMENT_TRACKING=USING_EXPERIMENT_TRACKING,\n",
    "    CREATE_NEW_EXPERIMENT=CREATE_NEW_EXPERIMENT,\n",
    "    EXPERIMENT_NAME=EXPERIMENT_NAME,\n",
    "    EPOCHS=EPOCHS,\n",
    "    BATCH_SIZE=BATCH_SIZE,\n",
    "    LEARNING_RATE=LEARNING_RATE,\n",
    "    NAME=NAME,\n",
    "    WEIGHT_SAVE_INTERVAL=WEIGHT_SAVE_INTERVAL,\n",
    "    KEEP_ONLY_LATEST_WEIGHTS=KEEP_ONLY_LATEST_WEIGHTS,\n",
    "    BACKBONE_INIT_WEIGHTS=BACKBONE_INIT_WEIGHTS,\n",
    "    LEARNING_RATE_ADJUSTMENT=LEARNING_RATE_ADJUSTMENT,\n",
    "    MOMENTUM=MOMENTUM,\n",
    "    DECAY=DECAY,\n",
    "    WARM_UP_ITER=WARM_UP_ITER,\n",
    "    WARM_UP_INIT_LR=WARM_UP_INIT_LR,\n",
    "    GAMMA=GAMMA,\n",
    "    FREEZE_BATCH_NORMALIZATION=FREEZE_BATCH_NORMALIZATION,\n",
    "    BACKBONE=BACKBONE,\n",
    "    MAX_INSTANCES=MAX_INSTANCES,\n",
    "    FPN_FEATURES=FPN_FEATURES,\n",
    "    TRAIN_DATA_SHUFFLE=TRAIN_DATA_SHUFFLE,\n",
    "    NMS_TOP_K=NMS_TOP_K,\n",
    "    NMS_CONF_THRESH=NMS_CONF_THRESH,\n",
    "    NMS_THRESH=NMS_THRESH,\n",
    "    LOG_FOLDER=LOG_FOLDER,\n",
    "    USED_DATA_FORMAT=USED_DATA_FORMAT\n",
    ")"
   ]
  }
 ],
 "metadata": {
  "kernelspec": {
   "display_name": "Python 3 (ipykernel)",
   "language": "python",
   "name": "python3"
  },
  "language_info": {
   "codemirror_mode": {
    "name": "ipython",
    "version": 3
   },
   "file_extension": ".py",
   "mimetype": "text/x-python",
   "name": "python",
   "nbconvert_exporter": "python",
   "pygments_lexer": "ipython3",
   "version": "3.12.3"
  }
 },
 "nbformat": 4,
 "nbformat_minor": 2
}
