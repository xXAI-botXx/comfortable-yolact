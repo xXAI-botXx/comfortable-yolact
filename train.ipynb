{
 "cells": [
  {
   "cell_type": "markdown",
   "metadata": {},
   "source": [
    "# Train\n",
    "### YOLACT\n",
    "\n",
    "---"
   ]
  },
  {
   "cell_type": "markdown",
   "metadata": {},
   "source": [
    "Restarting your GPU:"
   ]
  },
  {
   "cell_type": "code",
   "execution_count": null,
   "metadata": {},
   "outputs": [],
   "source": [
    "from numba import cuda \n",
    "\n",
    "if cuda.is_available():\n",
    "    device = cuda.get_current_device()\n",
    "    device.reset()"
   ]
  },
  {
   "cell_type": "markdown",
   "metadata": {},
   "source": [
    "**Download Pretrained Backbone Weights**\n",
    "\n",
    "You can download the weights from [here](https://drive.google.com/file/d/1tvqFPd4bJtakOlmn-uIA492g2qurRChj/view), also see [their github repo](https://github.com/dbolya/yolact#training)."
   ]
  },
  {
   "cell_type": "code",
   "execution_count": null,
   "metadata": {},
   "outputs": [
    {
     "name": "stdout",
     "output_type": "stream",
     "text": [
      "weights folder already exists\n",
      "Found these weights:\n",
      "    - 2024-06-06_23-56_YOLACT_test_training_2_with_WISDOM-Sim_399_50000.pth\n",
      "    - 2024-06-05_15-39_YOLACT_test_training_with_WISDOM-Sim_399_50000.pth\n",
      "    - 2024-06-05_7-9_YOLACT_test_training_with_WISDOM-Sim.pth\n",
      "    - 2024-06-05_15-39_YOLACT_test_training_with_WISDOM-Sim_4_11000.pth\n",
      "    - 2024-09-05_18-02_YOLACT_test_training_3_with_WISDOM-Sim_399_50000.pth\n"
     ]
    }
   ],
   "source": [
    "import os\n",
    "\n",
    "if not (os.path.exists(\"./weights\") and os.path.isdir(\"./weights\")):\n",
    "    print(\"create weights folder...\")\n",
    "    os.mkdir(\"./weights\")\n",
    "else:\n",
    "    print(\"weights folder already exists\")\n",
    "    print(\"Found these weights:\")\n",
    "    [print(f\"    - {name}\") for name in os.listdir(\"./weights\")];"
   ]
  },
  {
   "cell_type": "markdown",
   "metadata": {},
   "source": [
    "---\n",
    "### VARIABLES"
   ]
  },
  {
   "cell_type": "code",
   "execution_count": null,
   "metadata": {},
   "outputs": [],
   "source": [
    "!pwd"
   ]
  },
  {
   "cell_type": "code",
   "execution_count": null,
   "metadata": {},
   "outputs": [],
   "source": [
    "from datetime import datetime, timedelta\n",
    "\n",
    "NOW = datetime.now()\n",
    "DATE = f\"{NOW.year:04}-{NOW.month:02}-{NOW.day:02}_{NOW.hour:02}-{NOW.minute:02}\"\n",
    "\n",
    "print(f\"Date: {DATE}\")"
   ]
  },
  {
   "cell_type": "code",
   "execution_count": null,
   "metadata": {},
   "outputs": [],
   "source": [
    "NAME=f\"{DATE}_YOLACT_test_training_4\" \n",
    "MODEL_SAVE_PATH = \"./weights/\"\n",
    "\n",
    "# Data\n",
    "PATH_TO_IMAGES = \"/home/tobia/data/wisdom/wisdom-sim/depth_ims\"\n",
    "PATH_TO_MASKS = \"/home/tobia/data/wisdom/wisdom-sim/modal_segmasks/\"\n",
    "DATA_MODE = \"range\" # auto, random, range, single -> then use START_IDX and END_IDX\n",
    "DATA_AMOUNT = 5\n",
    "START_IDX = 0\n",
    "END_IDX = 5\n",
    "TRAIN_DATA_SHUFFLE=True\n",
    "IMG_MAX_SIZE = 550\n",
    "\n",
    "# Output\n",
    "OUTPUT_DIR = \"./output\"\n",
    "SHOULD_PRINT = True\n",
    "LOG_FOLDER=\"./logs/\"\n",
    "\n",
    "# Experiment tracking\n",
    "USING_EXPERIMENT_TRACKING=False\n",
    "CREATE_NEW_EXPERIMENT=False\n",
    "EXPERIMENT_NAME=\"Instance Segementation\"\n",
    "\n",
    "# Learning Parameters\n",
    "EPOCHS=20\n",
    "BATCH_SIZE=5\n",
    "LEARNING_RATE=1e-4\n",
    "WEIGHT_SAVE_INTERVAL=1e5\n",
    "KEEP_ONLY_LATEST_WEIGHTS=True\n",
    "LEARNING_RATE_ADJUSTMENT=(280000, 600000, 700000, 750000)\n",
    "MOMENTUM=0.9\n",
    "DECAY=5e-4\n",
    "GAMMA=0.1\n",
    "WARM_UP_ITER=500\n",
    "WARM_UP_INIT_LR=1e-4\n",
    "FREEZE_BATCH_NORMALIZATION=False\n",
    "\n",
    "# Model Details\n",
    "WEIGHTS_NAME = None\n",
    "BACKBONE_INIT_WEIGHTS=\"resnet101_reducedfc.pth\"\n",
    "BACKBONE =\"resnet101\"\n",
    "MAX_INSTANCES=100\n",
    "FPN_FEATURES=256\n",
    "NMS_TOP_K=200\n",
    "NMS_CONF_THRESH=0.005\n",
    "NMS_THRESH=0.5\n"
   ]
  },
  {
   "cell_type": "markdown",
   "metadata": {},
   "source": [
    "--- \n",
    "### Imports"
   ]
  },
  {
   "cell_type": "code",
   "execution_count": null,
   "metadata": {},
   "outputs": [],
   "source": [
    "# add nn-lib\n",
    "import sys\n",
    "sys.path.append(\"./\")"
   ]
  },
  {
   "cell_type": "code",
   "execution_count": null,
   "metadata": {},
   "outputs": [],
   "source": [
    "# yolact toolkit\n",
    "from yolact_toolkit import train"
   ]
  },
  {
   "cell_type": "markdown",
   "metadata": {},
   "source": [
    "---\n",
    "### Train"
   ]
  },
  {
   "cell_type": "code",
   "execution_count": null,
   "metadata": {},
   "outputs": [],
   "source": [
    "train(\n",
    "    MODEL_SAVE_PATH=MODEL_SAVE_PATH, \n",
    "    WEIGHTS_NAME=WEIGHTS_NAME,\n",
    "    PATH_TO_TRAIN_IMAGES=PATH_TO_IMAGES,\n",
    "    PATH_TO_TRAIN_MASKS=PATH_TO_MASKS,\n",
    "    TRAIN_DATA_MODE=DATA_MODE,\n",
    "    TRAIN_DATA_AMOUNT=DATA_AMOUNT,\n",
    "    TRAIN_START_IDX=START_IDX,\n",
    "    TRAIN_END_IDX=END_IDX,\n",
    "    IMG_MAX_SIZE=IMG_MAX_SIZE,\n",
    "    SHOULD_PRINT=SHOULD_PRINT,\n",
    "    USING_EXPERIMENT_TRACKING=,\n",
    "    CREATE_NEW_EXPERIMENT=,\n",
    "    EXPERIMENT_NAME=,\n",
    "    EPOCHS=,\n",
    "    BATCH_SIZE=,\n",
    "    LEARNING_RATE=,\n",
    "    NAME=,\n",
    "    WEIGHT_SAVE_INTERVAL=,\n",
    "    KEEP_ONLY_LATEST_WEIGHTS=,\n",
    "    BACKBONE_INIT_WEIGHTS=,\n",
    "    LEARNING_RATE_ADJUSTMENT=,\n",
    "    MOMENTUM=,\n",
    "    DECAY=,\n",
    "    WARM_UP_ITER=,\n",
    "    WARM_UP_INIT_LR=,\n",
    "    GAMMA=,\n",
    "    FREEZE_BATCH_NORMALIZATION=,\n",
    "    BACKBONE=,\n",
    "    MAX_INSTANCES=,\n",
    "    FPN_FEATURES=,\n",
    "    TRAIN_DATA_SHUFFLE=,\n",
    "    NMS_TOP_K=,\n",
    "    NMS_CONF_THRESH=,\n",
    "    NMS_THRESH=,\n",
    "    LOG_FOLDER=\n",
    ")"
   ]
  }
 ],
 "metadata": {
  "language_info": {
   "name": "python"
  }
 },
 "nbformat": 4,
 "nbformat_minor": 2
}
